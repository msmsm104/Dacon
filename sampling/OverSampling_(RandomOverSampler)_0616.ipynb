{
  "cells": [
    {
      "cell_type": "markdown",
      "metadata": {
        "id": "view-in-github",
        "colab_type": "text"
      },
      "source": [
        "<a href=\"https://colab.research.google.com/github/msmsm104/Dacon/blob/TIL/sampling/OverSampling_(RandomOverSampler)_0616.ipynb\" target=\"_parent\"><img src=\"https://colab.research.google.com/assets/colab-badge.svg\" alt=\"Open In Colab\"/></a>"
      ]
    },
    {
      "cell_type": "markdown",
      "id": "3f2e0e9d",
      "metadata": {
        "id": "3f2e0e9d"
      },
      "source": [
        "## Import"
      ]
    },
    {
      "cell_type": "code",
      "source": [
        "from google.colab import drive\n",
        "drive.mount('/content/drive')"
      ],
      "metadata": {
        "colab": {
          "base_uri": "https://localhost:8080/"
        },
        "id": "BMycoGHbKJbD",
        "outputId": "09b272e1-fe1d-4fbc-b0c5-7be4ddbe3101"
      },
      "id": "BMycoGHbKJbD",
      "execution_count": 1,
      "outputs": [
        {
          "output_type": "stream",
          "name": "stdout",
          "text": [
            "Mounted at /content/drive\n"
          ]
        }
      ]
    },
    {
      "cell_type": "code",
      "execution_count": 61,
      "id": "e1518435",
      "metadata": {
        "id": "e1518435"
      },
      "outputs": [],
      "source": [
        "import random\n",
        "import pandas as pd\n",
        "import numpy as np\n",
        "import os\n",
        "import librosa\n",
        "\n",
        "from tqdm.auto import tqdm\n",
        "\n",
        "from imblearn.over_sampling import *\n",
        "\n",
        "from sklearn.neural_network import MLPClassifier\n",
        "from sklearn.preprocessing import OneHotEncoder\n",
        "from sklearn.metrics import accuracy_score, confusion_matrix, f1_score\n",
        "\n",
        "import warnings\n",
        "warnings.filterwarnings(action='ignore') "
      ]
    },
    {
      "cell_type": "markdown",
      "id": "5da4aa90",
      "metadata": {
        "id": "5da4aa90"
      },
      "source": [
        "## Load Data"
      ]
    },
    {
      "cell_type": "code",
      "execution_count": 62,
      "id": "5ff61821",
      "metadata": {
        "id": "5ff61821"
      },
      "outputs": [],
      "source": [
        "def preprocessing(file_train):\n",
        "    train_df = pd.read_csv(file_train)\n",
        "    \n",
        "    train_x = train_df.drop(columns=['id', 'covid19'])\n",
        "    train_y = train_df['covid19']\n",
        "    \n",
        "    def onehot_encoding(ohe, x):\n",
        "        # 학습데이터로 부터 fit된 one-hot encoder (ohe)를 받아 transform 시켜주는 함수\n",
        "        encoded = ohe.transform(x['gender'].values.reshape(-1,1))\n",
        "        encoded_df = pd.DataFrame(encoded, columns=ohe.categories_[0])\n",
        "        x = pd.concat([x.drop(columns=['gender']), encoded_df], axis=1)\n",
        "        return x\n",
        "\n",
        "    # 'gender' column의 경우 추가 전처리가 필요 -> OneHotEncoder 적용\n",
        "    ohe = OneHotEncoder(sparse=False)\n",
        "    ohe.fit(train_x['gender'].values.reshape(-1,1))\n",
        "    train_x = onehot_encoding(ohe, train_x)\n",
        "    \n",
        "    \n",
        "    model = MLPClassifier(random_state=41)\n",
        "    model.fit(train_x, train_y)\n",
        "    \n",
        "    pred = model.predict(train_x)\n",
        "    print(f\"accuracy score: {accuracy_score(train_y, pred)}\")\n",
        "    print(confusion_matrix(train_y, pred))\n",
        "    print(f1_score(train_y, pred))\n",
        "    "
      ]
    },
    {
      "cell_type": "code",
      "execution_count": 63,
      "id": "f288b302",
      "metadata": {
        "id": "f288b302"
      },
      "outputs": [],
      "source": [
        "train_df = pd.read_csv('/content/drive/MyDrive/Colab Notebooks/이어드림스쿨/TIL(Today I Learned)/DaconProject/EDA/data/train_mfcc_data(32).csv')\n",
        "test_df = pd.read_csv('/content/drive/MyDrive/Colab Notebooks/이어드림스쿨/TIL(Today I Learned)/DaconProject/EDA/data/test_mfcc_data(32).csv')"
      ]
    },
    {
      "cell_type": "code",
      "execution_count": 64,
      "id": "5452f513",
      "metadata": {
        "id": "5452f513"
      },
      "outputs": [],
      "source": [
        "train_x = train_df.drop(columns=['id', 'covid19'])\n",
        "train_y = train_df['covid19']\n",
        "test_x = test_df.drop(columns=['id'])"
      ]
    },
    {
      "cell_type": "code",
      "execution_count": 65,
      "id": "a92bd12f",
      "metadata": {
        "id": "a92bd12f"
      },
      "outputs": [],
      "source": [
        "def onehot_encoding(ohe, x):\n",
        "        # 학습데이터로 부터 fit된 one-hot encoder (ohe)를 받아 transform 시켜주는 함수\n",
        "        encoded = ohe.transform(x['gender'].values.reshape(-1,1))\n",
        "        encoded_df = pd.DataFrame(encoded, columns=ohe.categories_[0])\n",
        "        x = pd.concat([x.drop(columns=['gender']), encoded_df], axis=1)\n",
        "        return x"
      ]
    },
    {
      "cell_type": "code",
      "source": [
        "# 'gender' column의 경우 추가 전처리가 필요 -> OneHotEncoder 적용\n",
        "ohe = OneHotEncoder(sparse=False)\n",
        "ohe.fit(train_x['gender'].values.reshape(-1,1))\n",
        "train_x = onehot_encoding(ohe, train_x)\n",
        "\n",
        "test_x = onehot_encoding(ohe, test_x)"
      ],
      "metadata": {
        "id": "f_n7uWhLQevd"
      },
      "id": "f_n7uWhLQevd",
      "execution_count": 66,
      "outputs": []
    },
    {
      "cell_type": "code",
      "execution_count": 67,
      "id": "321b7f53",
      "metadata": {
        "id": "321b7f53"
      },
      "outputs": [],
      "source": [
        "X_samp, y_samp = RandomOverSampler(random_state=0).fit_resample(train_x, train_y)"
      ]
    },
    {
      "cell_type": "code",
      "source": [
        "from sklearn.model_selection import train_test_split\n",
        "\n",
        "X_train, X_val, y_train, y_val = \\\n",
        "train_test_split(X_samp, y_samp, test_size=0.2, random_state=100)"
      ],
      "metadata": {
        "id": "fUSRtSgaTgSO"
      },
      "id": "fUSRtSgaTgSO",
      "execution_count": 76,
      "outputs": []
    },
    {
      "cell_type": "code",
      "source": [
        "model = MLPClassifier(random_state=41)\n",
        "model.fit(X_train, y_train)\n",
        "    \n",
        "pred = model.predict(X_val)\n",
        "print(f\"accuracy score: {accuracy_score(y_val, pred)}\")\n",
        "print(confusion_matrix(y_val, pred))\n",
        "print(f1_score(y_val, pred))"
      ],
      "metadata": {
        "colab": {
          "base_uri": "https://localhost:8080/"
        },
        "id": "JFFkAN7ZRcUg",
        "outputId": "62135e2c-b358-4f0d-89ba-b3556b9f9438"
      },
      "id": "JFFkAN7ZRcUg",
      "execution_count": 77,
      "outputs": [
        {
          "output_type": "stream",
          "name": "stdout",
          "text": [
            "accuracy score: 0.8871428571428571\n",
            "[[598 125]\n",
            " [ 33 644]]\n",
            "0.8907330567081605\n"
          ]
        }
      ]
    },
    {
      "cell_type": "code",
      "source": [
        "pred = model.predict(test_x)\n",
        "\n",
        "submission = pd.read_csv('/content/drive/MyDrive/Colab Notebooks/이어드림스쿨/TIL(Today I Learned)/DaconProject/EDA/data/sample_submission.csv')\n",
        "submission['covid19'] = pred\n",
        "submission.to_csv('/content/drive/MyDrive/Colab Notebooks/이어드림스쿨/TIL(Today I Learned)/DaconProject/EDA/data/submit_0616.csv', index=False)"
      ],
      "metadata": {
        "id": "lP2qA5IcRcW2"
      },
      "id": "lP2qA5IcRcW2",
      "execution_count": 74,
      "outputs": []
    },
    {
      "cell_type": "markdown",
      "source": [
        "## => test 결과가 아주 좋게 나올것으로 예측 했지만 오히려 성능이 떨어짐."
      ],
      "metadata": {
        "id": "r0uVj3HTUpcP"
      },
      "id": "r0uVj3HTUpcP"
    },
    {
      "cell_type": "code",
      "source": [
        ""
      ],
      "metadata": {
        "id": "WB5DGfM8RcZd"
      },
      "id": "WB5DGfM8RcZd",
      "execution_count": null,
      "outputs": []
    },
    {
      "cell_type": "code",
      "source": [
        ""
      ],
      "metadata": {
        "id": "n3oAmVJKRcbz"
      },
      "id": "n3oAmVJKRcbz",
      "execution_count": null,
      "outputs": []
    },
    {
      "cell_type": "markdown",
      "id": "5ea1d189",
      "metadata": {
        "id": "5ea1d189"
      },
      "source": [
        "### MFCC 32"
      ]
    },
    {
      "cell_type": "code",
      "execution_count": null,
      "id": "d9a92b01",
      "metadata": {
        "id": "d9a92b01",
        "outputId": "d15daba4-1ae5-455f-a631-db4ee75403fb"
      },
      "outputs": [
        {
          "name": "stdout",
          "output_type": "stream",
          "text": [
            "accuracy score: 0.9038107752956636\n",
            "[[3348  151]\n",
            " [ 215   91]]\n",
            "0.3321167883211679\n"
          ]
        }
      ],
      "source": [
        "preprocessing('./Interim/train_mfcc_data.csv')\n",
        "\n"
      ]
    },
    {
      "cell_type": "code",
      "source": [
        "model = MLPClassifier(random_state=41)\n",
        "model.fit(X_samp, y_samp)\n",
        "    \n",
        "pred = model.predict(X_samp)\n",
        "print(f\"accuracy score: {accuracy_score(y_samp, pred)}\")\n",
        "print(confusion_matrix(y_samp, pred))\n",
        "print(f1_score(y_samp, pred))"
      ],
      "metadata": {
        "colab": {
          "base_uri": "https://localhost:8080/"
        },
        "id": "0Txizwn5NcKd",
        "outputId": "485fc83d-c82b-461f-df0e-fa4088caa597"
      },
      "id": "0Txizwn5NcKd",
      "execution_count": 34,
      "outputs": [
        {
          "output_type": "stream",
          "name": "stdout",
          "text": [
            "accuracy score: 0.9329808516719063\n",
            "[[3152  347]\n",
            " [ 122 3377]]\n",
            "0.9350685310812681\n"
          ]
        }
      ]
    },
    {
      "cell_type": "markdown",
      "id": "e7a992c4",
      "metadata": {
        "id": "e7a992c4"
      },
      "source": [
        "### without gender column"
      ]
    },
    {
      "cell_type": "code",
      "execution_count": null,
      "id": "266e74ac",
      "metadata": {
        "id": "266e74ac",
        "outputId": "ada7196c-525a-4d82-9747-f332ffdadf80"
      },
      "outputs": [
        {
          "name": "stdout",
          "output_type": "stream",
          "text": [
            "accuracy score: 0.9219448094612352\n",
            "[[3496    3]\n",
            " [ 294   12]]\n",
            "0.07476635514018691\n"
          ]
        }
      ],
      "source": [
        "preprocessing_ecpt_gender('./Interim/train_mfcc_data.csv')"
      ]
    },
    {
      "cell_type": "markdown",
      "id": "0c0adb21",
      "metadata": {
        "id": "0c0adb21"
      },
      "source": [
        "### without age column"
      ]
    },
    {
      "cell_type": "code",
      "execution_count": null,
      "id": "290e76f9",
      "metadata": {
        "id": "290e76f9",
        "outputId": "6f1589b6-9825-4720-a257-a46b840708f8"
      },
      "outputs": [
        {
          "name": "stdout",
          "output_type": "stream",
          "text": [
            "accuracy score: 0.9082785808147175\n",
            "[[3383  116]\n",
            " [ 233   73]]\n",
            "0.29494949494949496\n"
          ]
        }
      ],
      "source": [
        "preprocessing_ecpt_age('./Interim/train_mfcc_data.csv')\n",
        "\n"
      ]
    },
    {
      "cell_type": "markdown",
      "id": "b408af3d",
      "metadata": {
        "id": "b408af3d"
      },
      "source": [
        "### without age, gender"
      ]
    },
    {
      "cell_type": "code",
      "execution_count": null,
      "id": "267818a8",
      "metadata": {
        "id": "267818a8",
        "outputId": "e4782efc-5881-4e5b-9230-4ed01a587e53"
      },
      "outputs": [
        {
          "name": "stdout",
          "output_type": "stream",
          "text": [
            "accuracy score: 0.9235216819973718\n",
            "[[3438   61]\n",
            " [ 230   76]]\n",
            "0.3431151241534989\n"
          ]
        }
      ],
      "source": [
        "preprocessing_ecpt_both('./Interim/train_mfcc_data.csv')"
      ]
    },
    {
      "cell_type": "markdown",
      "id": "d98fed81",
      "metadata": {
        "id": "d98fed81"
      },
      "source": [
        " => 학습데이터에 대해 비교하였을때, (나이, 성별)을 제외하고 모델을 학습, 그에따른 학습 성능을 평가했을때, 둘 다 포함한 경우 보다 모두 f1-score가 낮게 관측된다."
      ]
    },
    {
      "cell_type": "code",
      "execution_count": null,
      "id": "2d34a869",
      "metadata": {
        "id": "2d34a869"
      },
      "outputs": [],
      "source": [
        ""
      ]
    }
  ],
  "metadata": {
    "kernelspec": {
      "display_name": "Python 3 (ipykernel)",
      "language": "python",
      "name": "python3"
    },
    "language_info": {
      "codemirror_mode": {
        "name": "ipython",
        "version": 3
      },
      "file_extension": ".py",
      "mimetype": "text/x-python",
      "name": "python",
      "nbconvert_exporter": "python",
      "pygments_lexer": "ipython3",
      "version": "3.8.13"
    },
    "colab": {
      "name": "OverSampling_(RandomOverSampler)_0616.ipynb",
      "provenance": [],
      "collapsed_sections": [],
      "include_colab_link": true
    }
  },
  "nbformat": 4,
  "nbformat_minor": 5
}