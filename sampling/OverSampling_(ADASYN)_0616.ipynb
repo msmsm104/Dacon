{
  "cells": [
    {
      "cell_type": "markdown",
      "metadata": {
        "id": "view-in-github",
        "colab_type": "text"
      },
      "source": [
        "<a href=\"https://colab.research.google.com/github/msmsm104/Dacon/blob/TIL/sampling/OverSampling_(ADASYN)_0616.ipynb\" target=\"_parent\"><img src=\"https://colab.research.google.com/assets/colab-badge.svg\" alt=\"Open In Colab\"/></a>"
      ]
    },
    {
      "cell_type": "markdown",
      "id": "3f2e0e9d",
      "metadata": {
        "id": "3f2e0e9d"
      },
      "source": [
        "## Import"
      ]
    },
    {
      "cell_type": "code",
      "source": [
        ""
      ],
      "metadata": {
        "id": "RmkPobB0XIOd"
      },
      "id": "RmkPobB0XIOd",
      "execution_count": 1,
      "outputs": []
    },
    {
      "cell_type": "code",
      "source": [
        "from google.colab import drive\n",
        "drive.mount('/content/drive')"
      ],
      "metadata": {
        "colab": {
          "base_uri": "https://localhost:8080/"
        },
        "id": "BMycoGHbKJbD",
        "outputId": "e5825846-c46e-4181-9d3c-575741c0194b"
      },
      "id": "BMycoGHbKJbD",
      "execution_count": 2,
      "outputs": [
        {
          "output_type": "stream",
          "name": "stdout",
          "text": [
            "Mounted at /content/drive\n"
          ]
        }
      ]
    },
    {
      "cell_type": "code",
      "execution_count": 3,
      "id": "e1518435",
      "metadata": {
        "id": "e1518435"
      },
      "outputs": [],
      "source": [
        "import random\n",
        "import pandas as pd\n",
        "import numpy as np\n",
        "import os\n",
        "import librosa\n",
        "\n",
        "from tqdm.auto import tqdm\n",
        "\n",
        "from imblearn.over_sampling import *\n",
        "\n",
        "from sklearn.neural_network import MLPClassifier\n",
        "from sklearn.preprocessing import OneHotEncoder\n",
        "from sklearn.metrics import accuracy_score, confusion_matrix, f1_score\n",
        "\n",
        "import warnings\n",
        "warnings.filterwarnings(action='ignore') "
      ]
    },
    {
      "cell_type": "markdown",
      "id": "5da4aa90",
      "metadata": {
        "id": "5da4aa90"
      },
      "source": [
        "## Load Data"
      ]
    },
    {
      "cell_type": "code",
      "execution_count": 4,
      "id": "5ff61821",
      "metadata": {
        "id": "5ff61821"
      },
      "outputs": [],
      "source": [
        "def preprocessing(file_train):\n",
        "    train_df = pd.read_csv(file_train)\n",
        "    \n",
        "    train_x = train_df.drop(columns=['id', 'covid19'])\n",
        "    train_y = train_df['covid19']\n",
        "    \n",
        "    def onehot_encoding(ohe, x):\n",
        "        # 학습데이터로 부터 fit된 one-hot encoder (ohe)를 받아 transform 시켜주는 함수\n",
        "        encoded = ohe.transform(x['gender'].values.reshape(-1,1))\n",
        "        encoded_df = pd.DataFrame(encoded, columns=ohe.categories_[0])\n",
        "        x = pd.concat([x.drop(columns=['gender']), encoded_df], axis=1)\n",
        "        return x\n",
        "\n",
        "    # 'gender' column의 경우 추가 전처리가 필요 -> OneHotEncoder 적용\n",
        "    ohe = OneHotEncoder(sparse=False)\n",
        "    ohe.fit(train_x['gender'].values.reshape(-1,1))\n",
        "    train_x = onehot_encoding(ohe, train_x)\n",
        "    \n",
        "    \n",
        "    model = MLPClassifier(random_state=41)\n",
        "    model.fit(train_x, train_y)\n",
        "    \n",
        "    pred = model.predict(train_x)\n",
        "    print(f\"accuracy score: {accuracy_score(train_y, pred)}\")\n",
        "    print(confusion_matrix(train_y, pred))\n",
        "    print(f1_score(train_y, pred))\n",
        "    "
      ]
    },
    {
      "cell_type": "code",
      "execution_count": 5,
      "id": "f288b302",
      "metadata": {
        "id": "f288b302"
      },
      "outputs": [],
      "source": [
        "train_df = pd.read_csv('/content/drive/MyDrive/Colab Notebooks/이어드림스쿨/TIL(Today I Learned)/DaconProject/EDA/data/train_mfcc_data(32).csv')\n",
        "test_df = pd.read_csv('/content/drive/MyDrive/Colab Notebooks/이어드림스쿨/TIL(Today I Learned)/DaconProject/EDA/data/test_mfcc_data(32).csv')"
      ]
    },
    {
      "cell_type": "code",
      "execution_count": 6,
      "id": "5452f513",
      "metadata": {
        "id": "5452f513"
      },
      "outputs": [],
      "source": [
        "train_x = train_df.drop(columns=['id', 'covid19'])\n",
        "train_y = train_df['covid19']\n",
        "test_x = test_df.drop(columns=['id'])"
      ]
    },
    {
      "cell_type": "code",
      "execution_count": 7,
      "id": "a92bd12f",
      "metadata": {
        "id": "a92bd12f"
      },
      "outputs": [],
      "source": [
        "def onehot_encoding(ohe, x):\n",
        "        # 학습데이터로 부터 fit된 one-hot encoder (ohe)를 받아 transform 시켜주는 함수\n",
        "        encoded = ohe.transform(x['gender'].values.reshape(-1,1))\n",
        "        encoded_df = pd.DataFrame(encoded, columns=ohe.categories_[0])\n",
        "        x = pd.concat([x.drop(columns=['gender']), encoded_df], axis=1)\n",
        "        return x"
      ]
    },
    {
      "cell_type": "code",
      "source": [
        "# 'gender' column의 경우 추가 전처리가 필요 -> OneHotEncoder 적용\n",
        "ohe = OneHotEncoder(sparse=False)\n",
        "ohe.fit(train_x['gender'].values.reshape(-1,1))\n",
        "train_x = onehot_encoding(ohe, train_x)\n",
        "\n",
        "test_x = onehot_encoding(ohe, test_x)"
      ],
      "metadata": {
        "id": "f_n7uWhLQevd"
      },
      "id": "f_n7uWhLQevd",
      "execution_count": 8,
      "outputs": []
    },
    {
      "cell_type": "code",
      "execution_count": 9,
      "id": "321b7f53",
      "metadata": {
        "id": "321b7f53"
      },
      "outputs": [],
      "source": [
        "X_samp, y_samp = ADASYN(random_state=0).fit_resample(train_x, train_y)"
      ]
    },
    {
      "cell_type": "code",
      "source": [
        "y_samp.value_counts()"
      ],
      "metadata": {
        "colab": {
          "base_uri": "https://localhost:8080/"
        },
        "id": "MUdYxSSLYIQP",
        "outputId": "6e5c382d-e058-43a4-9a9b-a5c667d55110"
      },
      "id": "MUdYxSSLYIQP",
      "execution_count": 14,
      "outputs": [
        {
          "output_type": "execute_result",
          "data": {
            "text/plain": [
              "1    3555\n",
              "0    3499\n",
              "Name: covid19, dtype: int64"
            ]
          },
          "metadata": {},
          "execution_count": 14
        }
      ]
    },
    {
      "cell_type": "code",
      "source": [
        "from sklearn.model_selection import train_test_split\n",
        "\n",
        "X_train, X_val, y_train, y_val = \\\n",
        "train_test_split(X_samp, y_samp, test_size=0.2, random_state=100)"
      ],
      "metadata": {
        "id": "fUSRtSgaTgSO"
      },
      "id": "fUSRtSgaTgSO",
      "execution_count": 10,
      "outputs": []
    },
    {
      "cell_type": "code",
      "source": [
        "model = MLPClassifier(random_state=41)\n",
        "model.fit(X_train, y_train)\n",
        "    \n",
        "pred = model.predict(X_val)\n",
        "print(f\"accuracy score: {accuracy_score(y_val, pred)}\")\n",
        "print(confusion_matrix(y_val, pred))\n",
        "print(f1_score(y_val, pred))"
      ],
      "metadata": {
        "colab": {
          "base_uri": "https://localhost:8080/"
        },
        "id": "JFFkAN7ZRcUg",
        "outputId": "8b8d132e-c1b6-4b31-e012-f486a03b2254"
      },
      "id": "JFFkAN7ZRcUg",
      "execution_count": 11,
      "outputs": [
        {
          "output_type": "stream",
          "name": "stdout",
          "text": [
            "accuracy score: 0.8320340184266478\n",
            "[[616  89]\n",
            " [148 558]]\n",
            "0.8248337028824834\n"
          ]
        }
      ]
    },
    {
      "cell_type": "code",
      "source": [
        "pred = model.predict(test_x)\n",
        "\n",
        "submission = pd.read_csv('/content/drive/MyDrive/Colab Notebooks/이어드림스쿨/TIL(Today I Learned)/DaconProject/EDA/data/sample_submission.csv')\n",
        "submission['covid19'] = pred\n",
        "submission.to_csv('/content/drive/MyDrive/Colab Notebooks/이어드림스쿨/TIL(Today I Learned)/DaconProject/EDA/data/submit_0616_ADASYN.csv', index=False)"
      ],
      "metadata": {
        "id": "lP2qA5IcRcW2"
      },
      "id": "lP2qA5IcRcW2",
      "execution_count": 12,
      "outputs": []
    },
    {
      "cell_type": "code",
      "source": [
        ""
      ],
      "metadata": {
        "id": "WB5DGfM8RcZd"
      },
      "id": "WB5DGfM8RcZd",
      "execution_count": 12,
      "outputs": []
    },
    {
      "cell_type": "code",
      "source": [
        ""
      ],
      "metadata": {
        "id": "n3oAmVJKRcbz"
      },
      "id": "n3oAmVJKRcbz",
      "execution_count": 12,
      "outputs": []
    },
    {
      "cell_type": "code",
      "execution_count": 12,
      "id": "2d34a869",
      "metadata": {
        "id": "2d34a869"
      },
      "outputs": [],
      "source": [
        ""
      ]
    }
  ],
  "metadata": {
    "kernelspec": {
      "display_name": "Python 3 (ipykernel)",
      "language": "python",
      "name": "python3"
    },
    "language_info": {
      "codemirror_mode": {
        "name": "ipython",
        "version": 3
      },
      "file_extension": ".py",
      "mimetype": "text/x-python",
      "name": "python",
      "nbconvert_exporter": "python",
      "pygments_lexer": "ipython3",
      "version": "3.8.13"
    },
    "colab": {
      "name": "OverSampling_(ADASYN)_0616.ipynb",
      "provenance": [],
      "collapsed_sections": [],
      "include_colab_link": true
    }
  },
  "nbformat": 4,
  "nbformat_minor": 5
}