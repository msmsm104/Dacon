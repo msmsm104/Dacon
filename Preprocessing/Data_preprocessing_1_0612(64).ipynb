{
  "cells": [
    {
      "cell_type": "markdown",
      "metadata": {
        "id": "view-in-github",
        "colab_type": "text"
      },
      "source": [
        "<a href=\"https://colab.research.google.com/github/msmsm104/Dacon/blob/TIL/Preprocessing/Data_preprocessing_1_0612(64).ipynb\" target=\"_parent\"><img src=\"https://colab.research.google.com/assets/colab-badge.svg\" alt=\"Open In Colab\"/></a>"
      ]
    },
    {
      "cell_type": "markdown",
      "id": "2a8219fd",
      "metadata": {
        "id": "2a8219fd"
      },
      "source": [
        "## Wav파일\n",
        "\n",
        "    - data frame에 feature로 표현.\n",
        "    - Dacon baseline 참조."
      ]
    },
    {
      "cell_type": "markdown",
      "id": "b3be78fa",
      "metadata": {
        "id": "b3be78fa"
      },
      "source": [
        "### Import"
      ]
    },
    {
      "cell_type": "code",
      "execution_count": null,
      "id": "86b794d8",
      "metadata": {
        "id": "86b794d8"
      },
      "outputs": [],
      "source": [
        "import random\n",
        "import pandas as pd\n",
        "import numpy as np\n",
        "import os\n",
        "import librosa\n",
        "\n",
        "from tqdm.auto import tqdm\n",
        "\n",
        "from sklearn.neural_network import MLPClassifier\n",
        "from sklearn.preprocessing import OneHotEncoder\n",
        "\n",
        "import warnings\n",
        "warnings.filterwarnings(action='ignore') "
      ]
    },
    {
      "cell_type": "markdown",
      "id": "f8f10cb9",
      "metadata": {
        "id": "f8f10cb9"
      },
      "source": [
        "### Hyper parameter Setting"
      ]
    },
    {
      "cell_type": "code",
      "execution_count": null,
      "id": "52b705f4",
      "metadata": {
        "id": "52b705f4"
      },
      "outputs": [],
      "source": [
        "CFG = {\n",
        "    'SR':16000,\n",
        "    'N_MFCC':64, # MFCC 벡터를 추출할 개수\n",
        "    'SEED':41\n",
        "}"
      ]
    },
    {
      "cell_type": "markdown",
      "id": "af66e1e2",
      "metadata": {
        "id": "af66e1e2"
      },
      "source": [
        "### Fixed Random Seed"
      ]
    },
    {
      "cell_type": "code",
      "execution_count": null,
      "id": "953d74db",
      "metadata": {
        "id": "953d74db"
      },
      "outputs": [],
      "source": [
        "def seed_everything(seed):\n",
        "    random.seed(seed)\n",
        "    os.environ['PYTHONHASHSEED'] = str(seed)\n",
        "    np.random.seed(seed)\n",
        "\n",
        "seed_everything(CFG['SEED']) # Seed 고정"
      ]
    },
    {
      "cell_type": "markdown",
      "id": "0e5c2134",
      "metadata": {
        "id": "0e5c2134"
      },
      "source": [
        "### Data Preprocessing_1"
      ]
    },
    {
      "cell_type": "code",
      "execution_count": null,
      "id": "fc43a923",
      "metadata": {
        "id": "fc43a923"
      },
      "outputs": [],
      "source": [
        "train_df = pd.read_csv('./Raw/open/train_data.csv')\n",
        "test_df = pd.read_csv('./Raw/open/test_data.csv')"
      ]
    },
    {
      "cell_type": "code",
      "execution_count": null,
      "id": "73d99fe7",
      "metadata": {
        "id": "73d99fe7"
      },
      "outputs": [],
      "source": [
        "def get_mfcc_feature(df, data_type, save_path):\n",
        "    # Data Folder path\n",
        "    root_folder = './Raw/open'\n",
        "    if os.path.exists(save_path):\n",
        "        print(f'{save_path} is exist.')\n",
        "        return\n",
        "    features = []\n",
        "    for uid in tqdm(df['id']):\n",
        "        root_path = os.path.join(root_folder, data_type)\n",
        "        path = os.path.join(root_path, str(uid).zfill(5)+'.wav')\n",
        "\n",
        "        # librosa패키지를 사용하여 wav 파일 load\n",
        "        y, sr = librosa.load(path, sr=CFG['SR'])\n",
        "        \n",
        "        # librosa패키지를 사용하여 mfcc 추출\n",
        "        mfcc = librosa.feature.mfcc(y=y, sr=sr, n_mfcc=CFG['N_MFCC'])\n",
        "\n",
        "        y_feature = []\n",
        "        # 추출된 MFCC들의 평균을 Feature로 사용\n",
        "        for e in mfcc:\n",
        "            y_feature.append(np.mean(e))\n",
        "        features.append(y_feature)\n",
        "    \n",
        "    # 기존의 자가진단 정보를 담은 데이터프레임에 추출된 오디오 Feature를 추가\n",
        "    mfcc_df = pd.DataFrame(features, columns=['mfcc_'+str(x) for x in range(1,CFG['N_MFCC']+1)])\n",
        "    df = pd.concat([df, mfcc_df], axis=1)\n",
        "    df.to_csv(save_path, index=False)\n",
        "    print('Done.')"
      ]
    },
    {
      "cell_type": "code",
      "execution_count": null,
      "id": "d8093e2e",
      "metadata": {
        "colab": {
          "referenced_widgets": [
            "355a1f588e4942c0ae7e1eb4b85e0ed4",
            "fe971fbe04f641da9c088ffbfe07660e"
          ]
        },
        "id": "d8093e2e",
        "outputId": "a1be973c-5336-49f6-d739-8692030a82c3"
      },
      "outputs": [
        {
          "data": {
            "application/vnd.jupyter.widget-view+json": {
              "model_id": "355a1f588e4942c0ae7e1eb4b85e0ed4",
              "version_major": 2,
              "version_minor": 0
            },
            "text/plain": [
              "  0%|          | 0/3805 [00:00<?, ?it/s]"
            ]
          },
          "metadata": {},
          "output_type": "display_data"
        },
        {
          "name": "stdout",
          "output_type": "stream",
          "text": [
            "Done.\n"
          ]
        },
        {
          "data": {
            "application/vnd.jupyter.widget-view+json": {
              "model_id": "fe971fbe04f641da9c088ffbfe07660e",
              "version_major": 2,
              "version_minor": 0
            },
            "text/plain": [
              "  0%|          | 0/5732 [00:00<?, ?it/s]"
            ]
          },
          "metadata": {},
          "output_type": "display_data"
        },
        {
          "name": "stdout",
          "output_type": "stream",
          "text": [
            "Done.\n"
          ]
        }
      ],
      "source": [
        "get_mfcc_feature(train_df, 'train', './train_mfcc_data(64).csv')\n",
        "get_mfcc_feature(test_df, 'test', './test_mfcc_data(64).csv')"
      ]
    },
    {
      "cell_type": "code",
      "execution_count": null,
      "id": "b99aa1a9",
      "metadata": {
        "id": "b99aa1a9"
      },
      "outputs": [],
      "source": [
        "train_df_2 = pd.read_csv('./train_mfcc_data(64).csv')\n",
        "test_df_2 = pd.read_csv('./test_mfcc_data(64).csv')"
      ]
    },
    {
      "cell_type": "code",
      "execution_count": null,
      "id": "05be7750",
      "metadata": {
        "id": "05be7750"
      },
      "outputs": [],
      "source": [
        ""
      ]
    }
  ],
  "metadata": {
    "kernelspec": {
      "display_name": "Python 3 (ipykernel)",
      "language": "python",
      "name": "python3"
    },
    "language_info": {
      "codemirror_mode": {
        "name": "ipython",
        "version": 3
      },
      "file_extension": ".py",
      "mimetype": "text/x-python",
      "name": "python",
      "nbconvert_exporter": "python",
      "pygments_lexer": "ipython3",
      "version": "3.8.13"
    },
    "colab": {
      "name": "Data_preprocessing_1_0612(64).ipynb",
      "provenance": [],
      "collapsed_sections": [],
      "include_colab_link": true
    }
  },
  "nbformat": 4,
  "nbformat_minor": 5
}