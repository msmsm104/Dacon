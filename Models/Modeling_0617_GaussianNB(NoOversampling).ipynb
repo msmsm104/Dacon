{
  "nbformat": 4,
  "nbformat_minor": 0,
  "metadata": {
    "colab": {
      "name": "Modeling_0617_GaussianNB(NoOversampling).ipynb",
      "provenance": [],
      "collapsed_sections": [],
      "include_colab_link": true
    },
    "kernelspec": {
      "name": "python3",
      "display_name": "Python 3"
    },
    "language_info": {
      "name": "python"
    }
  },
  "cells": [
    {
      "cell_type": "markdown",
      "metadata": {
        "id": "view-in-github",
        "colab_type": "text"
      },
      "source": [
        "<a href=\"https://colab.research.google.com/github/msmsm104/Dacon/blob/TIL/Models/Modeling_0617_GaussianNB(NoOversampling).ipynb\" target=\"_parent\"><img src=\"https://colab.research.google.com/assets/colab-badge.svg\" alt=\"Open In Colab\"/></a>"
      ]
    },
    {
      "cell_type": "code",
      "source": [
        "import pandas as pd\n",
        "import numpy as np"
      ],
      "metadata": {
        "id": "OV4v0Fh0toz5"
      },
      "execution_count": 1,
      "outputs": []
    },
    {
      "cell_type": "markdown",
      "source": [
        "### model selection 결과 - age와 gender column을 제외한 GaussianNB 모델의 성능이 가장 좋게 나옴. (64로 나눈 데이터 프레임에서)"
      ],
      "metadata": {
        "id": "Frnp2s5TuiZg"
      }
    },
    {
      "cell_type": "code",
      "source": [
        "from google.colab import drive\n",
        "drive.mount('/content/drive')"
      ],
      "metadata": {
        "colab": {
          "base_uri": "https://localhost:8080/"
        },
        "id": "9bQWqr4Z37ZY",
        "outputId": "bba7141c-c0d6-4ce0-8144-b493578b2314"
      },
      "execution_count": 2,
      "outputs": [
        {
          "output_type": "stream",
          "name": "stdout",
          "text": [
            "Mounted at /content/drive\n"
          ]
        }
      ]
    },
    {
      "cell_type": "code",
      "source": [
        "base_path = '/content/drive/MyDrive/Colab Notebooks/이어드림스쿨/TIL(Today I Learned)/DaconProject/EDA/data/'\n",
        "\n",
        "# train16 = pd.read_csv(base_path + 'train_mfcc_data(16).csv')\n",
        "# train32 = pd.read_csv(base_path + 'train_mfcc_data(32).csv')\n",
        "train64 = pd.read_csv(base_path + 'train_mfcc_data(64).csv')\n",
        "test64 = pd.read_csv(base_path + 'test_mfcc_data(64).csv')\n",
        "submission = pd.read_csv(base_path + 'sample_submission.csv')\n",
        "# train = pd.read_csv('/content/drive/MyDrive/Colab Notebooks/이어드림스쿨/TIL(Today I Learned)/DaconProject/EDA/data/train_mfcc_data(16).csv')\n",
        "\n",
        "# train"
      ],
      "metadata": {
        "id": "7XBEGzUltmzv"
      },
      "execution_count": 15,
      "outputs": []
    },
    {
      "cell_type": "code",
      "source": [
        "from sklearn.model_selection import train_test_split\n",
        "from sklearn.naive_bayes import GaussianNB\n",
        "from sklearn.metrics import accuracy_score, confusion_matrix, roc_auc_score, f1_score\n",
        "\n",
        "X = train64.drop(['id','covid19', 'gender', 'age'], axis=1)\n",
        "y= train64['covid19']\n",
        "\n",
        "X_train, X_val, y_train, y_val = train_test_split(X, y,test_size=.2,random_state =123)\n",
        "\n",
        "model = GaussianNB()\n",
        "model.fit(X_train, y_train)\n",
        "pred = model.predict(X_val)\n",
        "\n",
        "print(accuracy_score(y_val, pred))\n",
        "print(confusion_matrix(y_val, pred))\n",
        "print(roc_auc_score(y_val, pred))\n",
        "print(f1_score(y_val, pred))"
      ],
      "metadata": {
        "colab": {
          "base_uri": "https://localhost:8080/"
        },
        "id": "5mCNDUymtaD6",
        "outputId": "e5d31101-e550-4830-d184-3c4522616df4"
      },
      "execution_count": 9,
      "outputs": [
        {
          "output_type": "stream",
          "name": "stdout",
          "text": [
            "0.8304862023653088\n",
            "[[610  88]\n",
            " [ 41  22]]\n",
            "0.611565925319507\n",
            "0.2543352601156069\n"
          ]
        }
      ]
    },
    {
      "cell_type": "markdown",
      "source": [
        "### oversampling을 하지 않은 결과."
      ],
      "metadata": {
        "id": "wHq1VO7qv5eQ"
      }
    },
    {
      "cell_type": "code",
      "source": [
        "X_test = test64.drop(['id', 'gender', 'age'], axis=1)\n",
        "X_test\n",
        "pred = model.predict(X_test)"
      ],
      "metadata": {
        "id": "VWHgVN51v7bD"
      },
      "execution_count": 17,
      "outputs": []
    },
    {
      "cell_type": "code",
      "source": [
        "submission['covid19'] = pred"
      ],
      "metadata": {
        "id": "EXghLj24wLoR"
      },
      "execution_count": 18,
      "outputs": []
    },
    {
      "cell_type": "code",
      "source": [
        "submission['covid19'].value_counts()"
      ],
      "metadata": {
        "colab": {
          "base_uri": "https://localhost:8080/"
        },
        "id": "8RbxpjNWxBQr",
        "outputId": "986c8e1d-5609-403c-e97c-042736e56caf"
      },
      "execution_count": 20,
      "outputs": [
        {
          "output_type": "execute_result",
          "data": {
            "text/plain": [
              "0    4672\n",
              "1    1060\n",
              "Name: covid19, dtype: int64"
            ]
          },
          "metadata": {},
          "execution_count": 20
        }
      ]
    },
    {
      "cell_type": "code",
      "source": [
        "submission.to_csv(base_path + 'submit_0617_drop_age_gender.csv', index=False)"
      ],
      "metadata": {
        "id": "-nP_lrNsxHlb"
      },
      "execution_count": 22,
      "outputs": []
    },
    {
      "cell_type": "code",
      "source": [
        ""
      ],
      "metadata": {
        "id": "YPhF5igAxWKw"
      },
      "execution_count": null,
      "outputs": []
    }
  ]
}